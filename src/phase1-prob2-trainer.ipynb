{
 "cells": [
  {
   "cell_type": "code",
   "execution_count": null,
   "metadata": {},
   "outputs": [],
   "source": [
    "# register model to mlflow\n",
    "from mlflow.models.signature import infer_signature\n",
    "import mlflow\n",
    "# init mlflow\n",
    "mlflow.set_tracking_uri('http://138.2.3.104:5000')\n",
    "# edit model-{number} to identify different kind of model using (e.g: model-ensemble, model-NN, model-forest, ...)\n",
    "# the model version will automatically added follows by with proper signature, test metrics, ... \n",
    "mlflow.set_experiment(\n",
    "    f\"phase-1_prob-2_model-1\"\n",
    ")"
   ]
  },
  {
   "cell_type": "code",
   "execution_count": null,
   "metadata": {},
   "outputs": [],
   "source": [
    "# mlflow log and end experiment\n",
    "mlflow.log_params(model.get_params())\n",
    "mlflow.log_metrics(metrics)\n",
    "signature = infer_signature(x_test, predictions)\n",
    "mlflow.sklearn.log_model(\n",
    "    sk_model=model,\n",
    "    artifact_path='model',\n",
    "    signature=signature,\n",
    ")\n",
    "mlflow.end_run()"
   ]
  }
 ],
 "metadata": {
  "language_info": {
   "name": "python"
  },
  "orig_nbformat": 4
 },
 "nbformat": 4,
 "nbformat_minor": 2
}
