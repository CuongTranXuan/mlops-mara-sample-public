{
 "cells": [
  {
   "cell_type": "code",
   "execution_count": null,
   "metadata": {},
   "outputs": [],
   "source": [
    "import pandas as pd\n",
    "from sklearn.preprocessing import LabelEncoder\n",
    "\n",
    "df = pd.read_parquet(\"./phase-1/prob-1/raw_train.parquet\")\n",
    "\n",
    "# Drop vì thấy feature1 này nhảm nhí\n",
    "df.drop([\"feature1\"], inplace=True, axis=1)\n",
    "\n",
    "# encode feature2\n",
    "le = LabelEncoder()\n",
    "le.fit(pd.unique(df[\"feature2\"]))\n",
    "f2_encode = le.transform(df[\"feature2\"])\n",
    "df[\"feature2\"] = f2_encode\n",
    "df[:3]\n",
    "from sklearn.model_selection import train_test_split\n",
    "y_data = df[\"label\"]\n",
    "x_data = df.drop(\"label\", axis=1)\n",
    "x_train, x_test, y_train, y_test = train_test_split(x_data, y_data, test_size = 0.3)\n",
    "# from sklearn.linear_model import LogisticRegression\n",
    "# model = LogisticRegression()\n",
    "\n",
    "from sklearn.ensemble import RandomForestClassifier\n",
    "model = RandomForestClassifier()\n",
    "model.fit(x_train, y_train)\n",
    "from sklearn.metrics import classification_report\n",
    "predictions = model.predict(x_test)\n",
    "print(classification_report(y_test, predictions))"
   ]
  },
  {
   "cell_type": "code",
   "execution_count": 3,
   "metadata": {},
   "outputs": [
    {
     "data": {
      "text/plain": [
       "Index(['feature1', 'feature2', 'feature3', 'feature4', 'feature5', 'feature6',\n",
       "       'feature7', 'feature8', 'feature9', 'feature10', 'feature11',\n",
       "       'feature12', 'feature13', 'feature14', 'feature15', 'feature16',\n",
       "       'is_drift', 'batch_id'],\n",
       "      dtype='object')"
      ]
     },
     "execution_count": 3,
     "metadata": {},
     "output_type": "execute_result"
    }
   ],
   "source": [
    "import pandas as pd \n",
    "df = pd.read_parquet('/home/iamqh/mlops/mlops-mara-sample-public/data/captured_data/phase-1/prob-1/1d56e5cf-4b16-44ee-8740-cba44f8360e7.parquet')\n",
    "df.columns"
   ]
  }
 ],
 "metadata": {
  "kernelspec": {
   "display_name": "base",
   "language": "python",
   "name": "python3"
  },
  "language_info": {
   "codemirror_mode": {
    "name": "ipython",
    "version": 3
   },
   "file_extension": ".py",
   "mimetype": "text/x-python",
   "name": "python",
   "nbconvert_exporter": "python",
   "pygments_lexer": "ipython3",
   "version": "3.10.11"
  },
  "orig_nbformat": 4
 },
 "nbformat": 4,
 "nbformat_minor": 2
}
